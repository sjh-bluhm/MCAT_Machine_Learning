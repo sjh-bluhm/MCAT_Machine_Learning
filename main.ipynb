{
 "cells": [
  {
   "cell_type": "code",
   "execution_count": null,
   "id": "136e1a9c-203d-47f3-9374-06c0a820addc",
   "metadata": {},
   "outputs": [],
   "source": [
    "#import necessary modules\n",
    "#Python >= 3.5\n",
    "import sys\n",
    "assert sys.version_info >= (3, 5)\n",
    "\n",
    "#Scikit-Learn >= 0.20\n",
    "import sklearn as sk\n",
    "assert sklearn.__version__ >= \"0.20\"\n",
    "\n",
    "#???\n",
    "from sklearn.model_selection import StratifiedShuffleSplit\n",
    "\n",
    "#numpy for calculations\n",
    "import numpy as np\n",
    "import os\n",
    "\n",
    "#matplotlib for figures\n",
    "import matplotlib as mpl\n",
    "import matplotlib.pyplot as plt\n",
    "#a magic function that allows inline plotting so figures are rendered in this notebook\n",
    "%matplotlib inline\n",
    "\n",
    "#pandas for ...\n",
    "import pandas as pd\n",
    "from pandas.plotting import scatter_matrix\n",
    "\n",
    "#add other needed modules here\n",
    "#Tensorflow?"
   ]
  },
  {
   "cell_type": "markdown",
   "id": "03e73ee9-5e9e-4554-bc21-ea8bffbbc7d9",
   "metadata": {},
   "source": [
    "## Setup and Feature Statistics"
   ]
  },
  {
   "cell_type": "code",
   "execution_count": null,
   "id": "402f17a9-5cc1-4ba1-af7c-a1380e97cf8b",
   "metadata": {},
   "outputs": [],
   "source": [
    "#define where to save figures for this project\n",
    "\"\"\"\n",
    "PROJECT_ROOT_DIR = \".\"\n",
    "CHAPTER_ID = \"end_to_end_project\"\n",
    "IMAGES_PATH = os.path.join(PROJECT_ROOT_DIR, \"images\", CHAPTER_ID)\n",
    "os.makedirs(IMAGES_PATH, exist_ok=True)\n",
    "\n",
    "def save_fig(fig_id, tight_layout=True, fig_extension=\"png\", resolution=300):\n",
    "    path = os.path.join(IMAGES_PATH, fig_id + \".\" + fig_extension)\n",
    "    print(\"Saving figure\", fig_id)\n",
    "    if tight_layout:\n",
    "        plt.tight_layout()\n",
    "    plt.savefig(path, format=fig_extension, dpi=resolution)\n",
    "\"\"\""
   ]
  },
  {
   "cell_type": "code",
   "execution_count": null,
   "id": "e89d2f37-ec9d-4fad-94db-012c6dbdd4cc",
   "metadata": {},
   "outputs": [],
   "source": [
    "#define a function to load data from the cv file using pandas\n",
    "#convert to tensors??? how many dimensions? how many tensors/matrices/vectors?\n",
    "\n",
    "#call function and store dataframe\n",
    "scores = ...\n",
    "\n",
    "#sanity check: take a look at the data\n",
    "#preview first five lines\n",
    "scores.head()\n",
    "#print number of columns, column labels, column data types, memory usage, range index, and non-null number of cells in each column\n",
    "scores.info()\n",
    "#gives count, mean, standard deviation, min, max, and percentiles (including median)\n",
    "scores.describe(perncentiles = [0.25, 0.5, 0.75], include = 'all')"
   ]
  },
  {
   "cell_type": "code",
   "execution_count": null,
   "id": "a87aa63d-22f2-4676-89c7-8df143b08b27",
   "metadata": {},
   "outputs": [],
   "source": [
    "#plot some data statistics for the report"
   ]
  },
  {
   "cell_type": "markdown",
   "id": "aa30b3f4-015e-409d-a994-e98324158585",
   "metadata": {},
   "source": [
    "## Creat a Test Set"
   ]
  },
  {
   "cell_type": "code",
   "execution_count": null,
   "id": "9b23205a-8aa0-46e7-b0ee-0eca9c83688d",
   "metadata": {},
   "outputs": [],
   "source": [
    "#set a seed so the output is the same every run\n",
    "np.random.seed(...)"
   ]
  },
  {
   "cell_type": "code",
   "execution_count": null,
   "id": "01d0ebbe-e6cf-4cca-a9fe-3eb094a38c83",
   "metadata": {},
   "outputs": [],
   "source": [
    "#split data into training and testing and save in variables\n",
    "#what is the best way to do that for our data set?\n",
    "#justification needed for Report 1\n",
    "#look at sklearn function train_test_split()\n",
    "#https://scikit-learn.org/stable/modules/generated/sklearn.model_selection.train_test_split.html\n",
    "#test size = ???\n",
    "#random_state = ???\n",
    "train_set, test_set = ...\n",
    "\n",
    "#sanity check: look at how many data points are in train/test\n",
    "len(train_set)\n",
    "len(test_set)"
   ]
  },
  {
   "cell_type": "code",
   "execution_count": null,
   "id": "d7ee9310-adba-4961-945e-8499cfe357cc",
   "metadata": {},
   "outputs": [],
   "source": [
    "#perform checksum/hash sum OR cyclic rendunancy check (CRC) on data\n",
    "#how to do it???\n",
    "#see here: https://www.codeproject.com/Articles/1671/CRC32-Generating-a-checksum-for-a-file"
   ]
  },
  {
   "cell_type": "code",
   "execution_count": 2,
   "id": "af13b459-b7e4-4d80-b906-a28455a1334e",
   "metadata": {},
   "outputs": [
    {
     "ename": "NameError",
     "evalue": "name 'train_set' is not defined",
     "output_type": "error",
     "traceback": [
      "\u001b[0;31m---------------------------------------------------------------------------\u001b[0m",
      "\u001b[0;31mNameError\u001b[0m                                 Traceback (most recent call last)",
      "Input \u001b[0;32mIn [2]\u001b[0m, in \u001b[0;36m<cell line: 2>\u001b[0;34m()\u001b[0m\n\u001b[1;32m      1\u001b[0m \u001b[38;5;66;03m#sanity check: preview test and training data\u001b[39;00m\n\u001b[0;32m----> 2\u001b[0m \u001b[43mtrain_set\u001b[49m\u001b[38;5;241m.\u001b[39mhead()\n\u001b[1;32m      3\u001b[0m test_set\u001b[38;5;241m.\u001b[39mhead()\n",
      "\u001b[0;31mNameError\u001b[0m: name 'train_set' is not defined"
     ]
    }
   ],
   "source": [
    "#sanity check: preview test and training data\n",
    "train_set.head()\n",
    "test_set.head()"
   ]
  },
  {
   "cell_type": "code",
   "execution_count": null,
   "id": "17cd3985-d8ec-46e6-986b-2ccd58ea7b45",
   "metadata": {},
   "outputs": [],
   "source": [
    "#perform stratified shufflesplit cross-validator\n",
    "#https://scikit-learn.org/stable/modules/generated/sklearn.model_selection.StratifiedShuffleSplit.html\n",
    "#compares random and stratified error"
   ]
  },
  {
   "cell_type": "markdown",
   "id": "a1e4fbcb-5d38-4732-ba5f-68c36f66a256",
   "metadata": {},
   "source": [
    "## Visualize the Data"
   ]
  },
  {
   "cell_type": "code",
   "execution_count": null,
   "id": "e3264128-74a0-43ab-8920-00dba5d700cb",
   "metadata": {},
   "outputs": [],
   "source": [
    "#create scatter plot of data with alpha=???\n",
    "#add legends, titles, and color"
   ]
  },
  {
   "cell_type": "markdown",
   "id": "f4d45b6b-5fc9-4a90-a653-6f533416cb21",
   "metadata": {},
   "source": [
    "## Visualize Correlations"
   ]
  },
  {
   "cell_type": "code",
   "execution_count": null,
   "id": "c213876c-f1d2-48d3-a7f9-afbec1c4fb8c",
   "metadata": {},
   "outputs": [],
   "source": [
    "#https://pandas.pydata.org/docs/reference/api/pandas.DataFrame.corr.html\n",
    "\n",
    "#create scatter matrices displaying totals, medians.."
   ]
  },
  {
   "cell_type": "markdown",
   "id": "1cf21199-73ee-488c-99ca-f43fe813d810",
   "metadata": {},
   "source": [
    "## Prepare Data for ML Algorithms"
   ]
  },
  {
   "cell_type": "code",
   "execution_count": null,
   "id": "67668154-0634-4464-ae1c-fd64ff6c4e29",
   "metadata": {},
   "outputs": [],
   "source": [
    "#drop data labels\n",
    "\n",
    "#save labels in a separate variable"
   ]
  },
  {
   "cell_type": "code",
   "execution_count": null,
   "id": "1f30150f-e06e-4198-a69b-228677baa75c",
   "metadata": {},
   "outputs": [],
   "source": [
    "# drop rows that have negative values\n",
    "#                # days before exam > 180\n",
    "#                # no final MCAT score\n",
    "#                # exact duplicate values to another row\n",
    "\n",
    "# sanity check: preview the data"
   ]
  },
  {
   "cell_type": "code",
   "execution_count": null,
   "id": "272d4e63-dc82-45c5-8aed-6c023d0d90f3",
   "metadata": {},
   "outputs": [],
   "source": [
    "# add custom attribute: variance between test scores (if multiple test scores)\n",
    "# NOTE: make sure variance is calculated between different tests, not between subsections of the same test"
   ]
  },
  {
   "cell_type": "markdown",
   "id": "60e7c5ad-c7dc-4a7b-a0b6-8c52804abf5c",
   "metadata": {},
   "source": [
    "## Transformation Pipeline"
   ]
  },
  {
   "cell_type": "code",
   "execution_count": null,
   "id": "7c55abb8-d778-47a2-8130-3ab4af306a7c",
   "metadata": {},
   "outputs": [],
   "source": [
    "# allows you to easily apply a list of transforms and fit methods in a given order\n",
    "from sklearn.pipeline import Pipeline\n",
    "# standardizes features, which is a requirement for many ML estimators\n",
    "from sklearn.preprocessing import StandardScaler"
   ]
  },
  {
   "cell_type": "markdown",
   "id": "b8dd3d7f-2eb1-4a9d-a750-d70fb1937656",
   "metadata": {},
   "source": [
    "# Select and Train a Model"
   ]
  },
  {
   "cell_type": "markdown",
   "id": "6f9dde2b-ecb0-4188-aece-a5f3d5133630",
   "metadata": {},
   "source": [
    "## Training and Evaluating on the Training Set"
   ]
  },
  {
   "cell_type": "code",
   "execution_count": null,
   "id": "c0e0a86f-9ca3-4a6b-91e1-a1e4d85a1a1e",
   "metadata": {},
   "outputs": [],
   "source": [
    "# NOTE: Explain the process of model validation\n",
    "# how did you split the data into training, validation and test sets\n",
    "# What are the sizes of each set and why did you make such design choice.\n",
    "\n",
    "from sklearn.linear_model import LinearRegression\n",
    "\n",
    "# initialize a linear regression object\n",
    "lin_reg = LinearRegression()\n",
    "lin_reg.fit(\"DATA\", \"LABELS\")\n",
    "\n",
    "# sanity check: test out predictions and compare to labels\n",
    "print(lin_reg.predict(\"SOME DATA\"))\n",
    "print(list(\"SOME LABELS\"))"
   ]
  },
  {
   "cell_type": "code",
   "execution_count": null,
   "id": "22003fb7-b472-48ea-a212-43d1f5b4a116",
   "metadata": {},
   "outputs": [],
   "source": [
    "# loss function\n",
    "from sklearn.metrics import mean_squared_error\n",
    "\n",
    "MCAT_predictions = lin_reg.predict(\"DATA\")\n",
    "lin_rmse = mean_squared_error(\"LABELS\", MCAT_predictions, squared=False)\n",
    "lin_rmse"
   ]
  },
  {
   "cell_type": "markdown",
   "id": "e971bf4d-76e4-4070-92b6-ba2c734d1847",
   "metadata": {},
   "source": [
    "## Evaluation with Cross-Validation"
   ]
  },
  {
   "cell_type": "code",
   "execution_count": null,
   "id": "1fee1601-8cdc-4a7a-9596-eee6bbc3f3e9",
   "metadata": {},
   "outputs": [],
   "source": [
    "lin_scores = cross_val_score(lin_reg, \"DATA\", \"LABELS\",\n",
    "                             scoring=\"neg_mean_squared_error\", cv=10)\n",
    "lin_rmse_scores = np.sqrt(-lin_scores)\n",
    "display_scores(lin_rmse_scores)"
   ]
  }
 ],
 "metadata": {
  "kernelspec": {
   "display_name": "Python 3",
   "language": "python",
   "name": "python3"
  },
  "language_info": {
   "codemirror_mode": {
    "name": "ipython",
    "version": 3
   },
   "file_extension": ".py",
   "mimetype": "text/x-python",
   "name": "python",
   "nbconvert_exporter": "python",
   "pygments_lexer": "ipython3",
   "version": "3.9.5"
  }
 },
 "nbformat": 4,
 "nbformat_minor": 5
}
