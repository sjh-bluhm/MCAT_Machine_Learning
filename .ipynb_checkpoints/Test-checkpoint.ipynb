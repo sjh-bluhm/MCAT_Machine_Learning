{
 "cells": [
  {
   "cell_type": "markdown",
   "id": "5acf7556-e0d7-4bb8-8596-bde6ad0ccd35",
   "metadata": {},
   "source": [
    "# This file is here to test a few things of our git repository"
   ]
  }
 ],
 "metadata": {
  "kernelspec": {
   "display_name": "Python",
   "language": "python",
   "name": "python3"
  },
  "language_info": {
   "codemirror_mode": {
    "name": "ipython",
    "version": 3
   },
   "file_extension": ".py",
   "mimetype": "text/x-python",
   "name": "python",
   "nbconvert_exporter": "python",
   "pygments_lexer": "ipython3",
   "version": "3.8.10"
  }
 },
 "nbformat": 4,
 "nbformat_minor": 5
}
